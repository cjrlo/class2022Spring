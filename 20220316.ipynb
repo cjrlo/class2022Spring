https://colab.research.google.com/drive/1HpEkzZrteHFHnM9cswTtyJcZ5XKu6vei#scrollTo=7536_eyevQD7
