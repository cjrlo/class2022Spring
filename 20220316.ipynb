{
  "nbformat": 4,
  "nbformat_minor": 0,
  "metadata": {
    "colab": {
      "name": "20220316.ipynb",
      "provenance": [],
      "collapsed_sections": [],
      "authorship_tag": "ABX9TyNhqCnwixCDqa+6G8yn9ZS2",
      "include_colab_link": true
    },
    "kernelspec": {
      "name": "python3",
      "display_name": "Python 3"
    },
    "language_info": {
      "name": "python"
    }
  },
  "cells": [
    {
      "cell_type": "markdown",
      "metadata": {
        "id": "view-in-github",
        "colab_type": "text"
      },
      "source": [
        "<a href=\"https://colab.research.google.com/github/cjrlo/class2022Spring/blob/main/20220316.ipynb\" target=\"_parent\"><img src=\"https://colab.research.google.com/assets/colab-badge.svg\" alt=\"Open In Colab\"/></a>"
      ]
    },
    {
      "cell_type": "markdown",
      "source": [
        "String"
      ],
      "metadata": {
        "id": "KGfLHDqsuGP-"
      }
    },
    {
      "cell_type": "code",
      "execution_count": 6,
      "metadata": {
        "id": "VM-2plXrln_c",
        "colab": {
          "base_uri": "https://localhost:8080/"
        },
        "outputId": "00deb461-bc6e-4c91-8fdf-d4d973b6512c"
      },
      "outputs": [
        {
          "output_type": "stream",
          "name": "stdout",
          "text": [
            "a f f a\n",
            "bc bcdef abc abcdef\n"
          ]
        }
      ],
      "source": [
        "s='abcdef'\n",
        "print(s[0], s[5], s[-1], s[-6])\n",
        "print(s[1:3], s[1:], s[:3], s[:])"
      ]
    },
    {
      "cell_type": "code",
      "source": [
        "n=[100, 200, 300]\n",
        "print(n[0], n[2], n[-1], n[-3])\n",
        "print(n[1:2], n[1:], n[:2], n[:])"
      ],
      "metadata": {
        "colab": {
          "base_uri": "https://localhost:8080/"
        },
        "id": "sHX2Fm8KtCSm",
        "outputId": "7c2f2e97-4b43-4012-f668-1361f8c21283"
      },
      "execution_count": 8,
      "outputs": [
        {
          "output_type": "stream",
          "name": "stdout",
          "text": [
            "100 300 300 100\n",
            "[200] [200, 300] [100, 200] [100, 200, 300]\n"
          ]
        }
      ]
    },
    {
      "cell_type": "markdown",
      "source": [
        "길이 계산"
      ],
      "metadata": {
        "id": "jGPCde5bunpM"
      }
    },
    {
      "cell_type": "code",
      "source": [
        "len(s)"
      ],
      "metadata": {
        "colab": {
          "base_uri": "https://localhost:8080/"
        },
        "id": "HAIytLODtDGr",
        "outputId": "a8a91328-3ee8-4f98-b158-0ec7d7e9c2f8"
      },
      "execution_count": 9,
      "outputs": [
        {
          "output_type": "execute_result",
          "data": {
            "text/plain": [
              "6"
            ]
          },
          "metadata": {},
          "execution_count": 9
        }
      ]
    },
    {
      "cell_type": "markdown",
      "source": [
        "s[1]=b, s[3]=d, s[4:]=ef"
      ],
      "metadata": {
        "id": "ZBwvuQVXu8Bm"
      }
    },
    {
      "cell_type": "code",
      "source": [
        "s[1] + s[3] + s[4:] *10"
      ],
      "metadata": {
        "colab": {
          "base_uri": "https://localhost:8080/",
          "height": 36
        },
        "id": "KvN6XBKYuuxj",
        "outputId": "28c9118d-9c42-44ba-c010-9fd47dcf4d6d"
      },
      "execution_count": 10,
      "outputs": [
        {
          "output_type": "execute_result",
          "data": {
            "text/plain": [
              "'bdefefefefefefefefefef'"
            ],
            "application/vnd.google.colaboratory.intrinsic+json": {
              "type": "string"
            }
          },
          "metadata": {},
          "execution_count": 10
        }
      ]
    },
    {
      "cell_type": "markdown",
      "source": [
        "대문자로 변환"
      ],
      "metadata": {
        "id": "7536_eyevQD7"
      }
    },
    {
      "cell_type": "code",
      "source": [
        "s.upper()"
      ],
      "metadata": {
        "colab": {
          "base_uri": "https://localhost:8080/",
          "height": 36
        },
        "id": "Smhl_BWovDyN",
        "outputId": "96b110fe-ed41-467d-86cd-9fcdb0b847c0"
      },
      "execution_count": 11,
      "outputs": [
        {
          "output_type": "execute_result",
          "data": {
            "text/plain": [
              "'ABCDEF'"
            ],
            "application/vnd.google.colaboratory.intrinsic+json": {
              "type": "string"
            }
          },
          "metadata": {},
          "execution_count": 11
        }
      ]
    },
    {
      "cell_type": "code",
      "source": [
        "s=' this is a house  built this year.\\n'\n",
        "s"
      ],
      "metadata": {
        "colab": {
          "base_uri": "https://localhost:8080/",
          "height": 36
        },
        "id": "5L5xSz_QvOaW",
        "outputId": "c43caba1-aea4-4efe-9d61-41ee5ff9663c"
      },
      "execution_count": 16,
      "outputs": [
        {
          "output_type": "execute_result",
          "data": {
            "text/plain": [
              "' this is a house  built this year.\\n'"
            ],
            "application/vnd.google.colaboratory.intrinsic+json": {
              "type": "string"
            }
          },
          "metadata": {},
          "execution_count": 16
        }
      ]
    },
    {
      "cell_type": "code",
      "source": [
        "result=s.find('house')\n",
        "result"
      ],
      "metadata": {
        "colab": {
          "base_uri": "https://localhost:8080/"
        },
        "id": "qZmbUGr9vmJz",
        "outputId": "a75c6fd7-cf0b-4d3e-ba70-58d0769d1dbe"
      },
      "execution_count": 17,
      "outputs": [
        {
          "output_type": "execute_result",
          "data": {
            "text/plain": [
              "11"
            ]
          },
          "metadata": {},
          "execution_count": 17
        }
      ]
    },
    {
      "cell_type": "markdown",
      "source": [
        "'this'가 2개 이상일 때도 맨 처음에 나온 'this'를 가리킴"
      ],
      "metadata": {
        "id": "cL18A1plv_15"
      }
    },
    {
      "cell_type": "code",
      "source": [
        "result=s.find('this')\n",
        "result"
      ],
      "metadata": {
        "colab": {
          "base_uri": "https://localhost:8080/"
        },
        "id": "bCRk-RFYv0G9",
        "outputId": "d982c092-3094-45fc-f285-e857c03aaaa6"
      },
      "execution_count": 19,
      "outputs": [
        {
          "output_type": "execute_result",
          "data": {
            "text/plain": [
              "1"
            ]
          },
          "metadata": {},
          "execution_count": 19
        }
      ]
    },
    {
      "cell_type": "markdown",
      "source": [
        "맨 처음과 끝의 whitespace 없애기"
      ],
      "metadata": {
        "id": "I8FyYq0jwSbO"
      }
    },
    {
      "cell_type": "code",
      "source": [
        "s=s.strip()\n",
        "s"
      ],
      "metadata": {
        "colab": {
          "base_uri": "https://localhost:8080/",
          "height": 36
        },
        "id": "rcrmJ22EwI9j",
        "outputId": "ef488815-332e-466a-843d-0417c59fd8f8"
      },
      "execution_count": 20,
      "outputs": [
        {
          "output_type": "execute_result",
          "data": {
            "text/plain": [
              "'this is a house  built this year.'"
            ],
            "application/vnd.google.colaboratory.intrinsic+json": {
              "type": "string"
            }
          },
          "metadata": {},
          "execution_count": 20
        }
      ]
    },
    {
      "cell_type": "code",
      "source": [
        "tokens=s.split(' ')\n",
        "tokens"
      ],
      "metadata": {
        "colab": {
          "base_uri": "https://localhost:8080/"
        },
        "id": "b09rCJa7wWuB",
        "outputId": "57cc1a27-6de3-45ae-fd3a-8dada29d3eba"
      },
      "execution_count": 21,
      "outputs": [
        {
          "output_type": "execute_result",
          "data": {
            "text/plain": [
              "['this', 'is', 'a', 'house', '', 'built', 'this', 'year.']"
            ]
          },
          "metadata": {},
          "execution_count": 21
        }
      ]
    },
    {
      "cell_type": "code",
      "source": [
        "s=' '.join(tokens)\n",
        "s"
      ],
      "metadata": {
        "colab": {
          "base_uri": "https://localhost:8080/",
          "height": 36
        },
        "id": "Pq-r_EkcwnOD",
        "outputId": "ffc01503-f2b6-432d-89e2-f9e2452c835b"
      },
      "execution_count": 24,
      "outputs": [
        {
          "output_type": "execute_result",
          "data": {
            "text/plain": [
              "'this is a house  built this year.'"
            ],
            "application/vnd.google.colaboratory.intrinsic+json": {
              "type": "string"
            }
          },
          "metadata": {},
          "execution_count": 24
        }
      ]
    },
    {
      "cell_type": "code",
      "source": [
        "s=s.replace('this', 'that')\n",
        "s"
      ],
      "metadata": {
        "colab": {
          "base_uri": "https://localhost:8080/",
          "height": 36
        },
        "id": "tVbiYd8MxJON",
        "outputId": "e10fe26c-9598-4ac3-b1bb-07e9b076473c"
      },
      "execution_count": 27,
      "outputs": [
        {
          "output_type": "execute_result",
          "data": {
            "text/plain": [
              "'that is a house  built that year.'"
            ],
            "application/vnd.google.colaboratory.intrinsic+json": {
              "type": "string"
            }
          },
          "metadata": {},
          "execution_count": 27
        }
      ]
    },
    {
      "cell_type": "markdown",
      "source": [
        "함수 만들기"
      ],
      "metadata": {
        "id": "zoI_G8z-xb7g"
      }
    },
    {
      "cell_type": "code",
      "source": [
        "def add(a,b):\n",
        "  return a+b"
      ],
      "metadata": {
        "id": "621Kpaf4xdg0"
      },
      "execution_count": 28,
      "outputs": []
    },
    {
      "cell_type": "code",
      "source": [
        "def add(a,b):\n",
        "  c=a+b\n",
        "  return c"
      ],
      "metadata": {
        "id": "umjc39YOxkp6"
      },
      "execution_count": 29,
      "outputs": []
    },
    {
      "cell_type": "code",
      "source": [
        "c=add(1,2); print(c)"
      ],
      "metadata": {
        "colab": {
          "base_uri": "https://localhost:8080/"
        },
        "id": "jyeKRCAhx2nY",
        "outputId": "9b174e9c-c71b-4954-f00d-98f187e444c1"
      },
      "execution_count": 30,
      "outputs": [
        {
          "output_type": "stream",
          "name": "stdout",
          "text": [
            "3\n"
          ]
        }
      ]
    },
    {
      "cell_type": "markdown",
      "source": [
        "Syntax - 반복문(for), 조건문(if)"
      ],
      "metadata": {
        "id": "rKauc9_hx8qM"
      }
    },
    {
      "cell_type": "markdown",
      "source": [
        "반복문 for"
      ],
      "metadata": {
        "id": "uZAmrnDl1RLD"
      }
    },
    {
      "cell_type": "code",
      "source": [
        "a=[1, 2, 3, 4]\n",
        "for i in a:\n",
        "  print(i)"
      ],
      "metadata": {
        "colab": {
          "base_uri": "https://localhost:8080/"
        },
        "id": "0YqEcgboyCu7",
        "outputId": "41db7fd0-3de5-4517-e3c0-f3ebe0e409a7"
      },
      "execution_count": 31,
      "outputs": [
        {
          "output_type": "stream",
          "name": "stdout",
          "text": [
            "1\n",
            "2\n",
            "3\n",
            "4\n"
          ]
        }
      ]
    },
    {
      "cell_type": "markdown",
      "source": [
        "range(4)=range(len(a))=[0,1,2,3]"
      ],
      "metadata": {
        "id": "_f1ABFOx0wuS"
      }
    },
    {
      "cell_type": "code",
      "source": [
        "a=[1, 2, 3, 4]\n",
        "for i in range(4):\n",
        "  print(a[i])"
      ],
      "metadata": {
        "colab": {
          "base_uri": "https://localhost:8080/"
        },
        "id": "WtBFP6UE0HnD",
        "outputId": "03204656-8fcf-4b62-ed7e-650b94668bdf"
      },
      "execution_count": 34,
      "outputs": [
        {
          "output_type": "stream",
          "name": "stdout",
          "text": [
            "1\n",
            "2\n",
            "3\n",
            "4\n"
          ]
        }
      ]
    },
    {
      "cell_type": "code",
      "source": [
        "a=['red', 'green', 'blue', 'purple']\n",
        "for i in a:\n",
        "  print(i)"
      ],
      "metadata": {
        "colab": {
          "base_uri": "https://localhost:8080/"
        },
        "id": "H_AXdI-D0zve",
        "outputId": "545c354e-0741-4cf4-9db2-8532f32b2ee4"
      },
      "execution_count": 35,
      "outputs": [
        {
          "output_type": "stream",
          "name": "stdout",
          "text": [
            "red\n",
            "green\n",
            "blue\n",
            "purple\n"
          ]
        }
      ]
    },
    {
      "cell_type": "code",
      "source": [
        "a=['red', 'green', 'blue', 'purple']\n",
        "for i in range(len(a)):\n",
        "  print(a[i])"
      ],
      "metadata": {
        "colab": {
          "base_uri": "https://localhost:8080/"
        },
        "id": "nlSWt-IW08Ro",
        "outputId": "e6a2afe5-48aa-4189-f365-c85404dba880"
      },
      "execution_count": 38,
      "outputs": [
        {
          "output_type": "stream",
          "name": "stdout",
          "text": [
            "red\n",
            "green\n",
            "blue\n",
            "purple\n"
          ]
        }
      ]
    },
    {
      "cell_type": "markdown",
      "source": [
        "조건문 if"
      ],
      "metadata": {
        "id": "OYnU_0pS1Vtv"
      }
    },
    {
      "cell_type": "markdown",
      "source": [
        "a=0 doesn't mean equal, means that 0 is assigned to a"
      ],
      "metadata": {
        "id": "BIFgXNFE2FG3"
      }
    },
    {
      "cell_type": "code",
      "source": [
        "a=0\n",
        "if a==0:\n",
        "  print(a)"
      ],
      "metadata": {
        "colab": {
          "base_uri": "https://localhost:8080/"
        },
        "id": "pyLj_muj1YNa",
        "outputId": "d97f0334-a4cd-434a-9ed8-329f8fb1afc7"
      },
      "execution_count": 41,
      "outputs": [
        {
          "output_type": "stream",
          "name": "stdout",
          "text": [
            "0\n"
          ]
        }
      ]
    },
    {
      "cell_type": "code",
      "source": [
        "a=0\n",
        "if a!=0:\n",
        "  print(a)\n",
        "\n",
        "→ 아무 일도 안 일어남"
      ],
      "metadata": {
        "id": "SUvIyk8b2Dbn"
      },
      "execution_count": 42,
      "outputs": []
    },
    {
      "cell_type": "code",
      "source": [
        "a!=0\n",
        "if a!=0:\n",
        "  print(a)\n",
        "else:\n",
        "  print(a+1)"
      ],
      "metadata": {
        "colab": {
          "base_uri": "https://localhost:8080/"
        },
        "id": "1w_P7RBM2eMS",
        "outputId": "12e1c98b-f004-4c79-b23c-65886d2ce50b"
      },
      "execution_count": 43,
      "outputs": [
        {
          "output_type": "stream",
          "name": "stdout",
          "text": [
            "1\n"
          ]
        }
      ]
    },
    {
      "cell_type": "code",
      "source": [
        "a=0\n",
        "if a==0:\n",
        "  print(a)\n",
        "else:\n",
        "  print(a+1)"
      ],
      "metadata": {
        "colab": {
          "base_uri": "https://localhost:8080/"
        },
        "id": "TIninq_62w39",
        "outputId": "1a081909-c3ab-411a-c58f-d537e7444a36"
      },
      "execution_count": 44,
      "outputs": [
        {
          "output_type": "stream",
          "name": "stdout",
          "text": [
            "0\n"
          ]
        }
      ]
    },
    {
      "cell_type": "markdown",
      "source": [
        "range(1,3)=[1,2]    3 제외\n",
        "\n",
        "range(3,5)=[3,4]    5 제외"
      ],
      "metadata": {
        "id": "6HEPw0bSDChF"
      }
    },
    {
      "cell_type": "code",
      "source": [
        "for i in range(1,3):\n",
        "  for j in range(3,5):\n",
        "    print(i*j)"
      ],
      "metadata": {
        "colab": {
          "base_uri": "https://localhost:8080/"
        },
        "id": "y2zhIOgf24aa",
        "outputId": "886f7ce8-1611-417e-f36e-f3900cc88650"
      },
      "execution_count": 45,
      "outputs": [
        {
          "output_type": "stream",
          "name": "stdout",
          "text": [
            "3\n",
            "4\n",
            "6\n",
            "8\n"
          ]
        }
      ]
    },
    {
      "cell_type": "markdown",
      "source": [
        "1. 1*3=3\n",
        "2. 1*4=4\n",
        "3. 2*3=6\n",
        "4. 2*4=8"
      ],
      "metadata": {
        "id": "01NEk2M6DNA0"
      }
    },
    {
      "cell_type": "code",
      "source": [
        "for i in range(1,3):\n",
        "  for j in range(3,5):\n",
        "    if j>=4:\n",
        "      print(i*j)"
      ],
      "metadata": {
        "colab": {
          "base_uri": "https://localhost:8080/"
        },
        "id": "7zOBPp5oDXgR",
        "outputId": "6560ba55-6999-40f0-dd99-734b5050f001"
      },
      "execution_count": 46,
      "outputs": [
        {
          "output_type": "stream",
          "name": "stdout",
          "text": [
            "4\n",
            "8\n"
          ]
        }
      ]
    },
    {
      "cell_type": "markdown",
      "source": [
        "1. 1*4=4\n",
        "2. 2*4=8"
      ],
      "metadata": {
        "id": "Agw-kQobDnPI"
      }
    },
    {
      "cell_type": "markdown",
      "source": [
        "List Comprehension"
      ],
      "metadata": {
        "id": "HKo-5hjbDrhP"
      }
    },
    {
      "cell_type": "code",
      "source": [
        "a=[1, 2, 3, 4]\n",
        "b=[i for i in a if i>=2]\n",
        "b"
      ],
      "metadata": {
        "colab": {
          "base_uri": "https://localhost:8080/"
        },
        "id": "h_rSPCTfDucU",
        "outputId": "91db1c3f-068c-42b2-eab4-5854705e74c1"
      },
      "execution_count": 48,
      "outputs": [
        {
          "output_type": "execute_result",
          "data": {
            "text/plain": [
              "[2, 3, 4]"
            ]
          },
          "metadata": {},
          "execution_count": 48
        }
      ]
    },
    {
      "cell_type": "code",
      "source": [
        "a=['red', 'green', 'blue', 'purple' ]\n",
        "b=[i for i in a if len(i)>=4]\n",
        "b"
      ],
      "metadata": {
        "colab": {
          "base_uri": "https://localhost:8080/"
        },
        "id": "B9iWxBHPD3k9",
        "outputId": "3fda4d62-01ee-40b6-87e2-37ad10c9c047"
      },
      "execution_count": 49,
      "outputs": [
        {
          "output_type": "execute_result",
          "data": {
            "text/plain": [
              "['green', 'blue', 'purple']"
            ]
          },
          "metadata": {},
          "execution_count": 49
        }
      ]
    },
    {
      "cell_type": "markdown",
      "source": [
        "len(i)>=4 → 길이가 4보다 크거나 같은지"
      ],
      "metadata": {
        "id": "n20vnniEEKkH"
      }
    },
    {
      "cell_type": "markdown",
      "source": [
        "Dict Comprehension"
      ],
      "metadata": {
        "id": "UHVWgflUETS4"
      }
    },
    {
      "cell_type": "code",
      "source": [
        "a=['red', 'green', 'blue', 'purple']\n",
        "b=[1, 2, 3, 4]\n",
        "c={a[i]:b [i] for i in range(4)}\n",
        "c"
      ],
      "metadata": {
        "colab": {
          "base_uri": "https://localhost:8080/"
        },
        "id": "vFnluFHXEZrl",
        "outputId": "4e3ece5e-485b-4bb8-c1a5-2e14a77cec7b"
      },
      "execution_count": 51,
      "outputs": [
        {
          "output_type": "execute_result",
          "data": {
            "text/plain": [
              "{'blue': 3, 'green': 2, 'purple': 4, 'red': 1}"
            ]
          },
          "metadata": {},
          "execution_count": 51
        }
      ]
    },
    {
      "cell_type": "markdown",
      "source": [
        "install\n",
        "\n",
        "import\n",
        "\n",
        "built-in: import조차도 필요X"
      ],
      "metadata": {
        "id": "BH3XHdGsEtdP"
      }
    },
    {
      "cell_type": "code",
      "source": [
        "import matplotlib\n",
        "matplotlib.pyplot.hist(n)"
      ],
      "metadata": {
        "colab": {
          "base_uri": "https://localhost:8080/",
          "height": 321
        },
        "id": "d9tW5R2FFsNp",
        "outputId": "bec40e2b-9b18-4c60-8d18-a4c3b100da49"
      },
      "execution_count": 61,
      "outputs": [
        {
          "output_type": "execute_result",
          "data": {
            "text/plain": [
              "(array([1., 0., 0., 0., 0., 1., 0., 0., 0., 1.]),\n",
              " array([100., 120., 140., 160., 180., 200., 220., 240., 260., 280., 300.]),\n",
              " <a list of 10 Patch objects>)"
            ]
          },
          "metadata": {},
          "execution_count": 61
        },
        {
          "output_type": "display_data",
          "data": {
            "text/plain": [
              "<Figure size 432x288 with 1 Axes>"
            ],
            "image/png": "[encoded data removed]"
          },
          "metadata": {
            "needs_background": "light"
          }
        }
      ]
    },
    {
      "cell_type": "code",
      "source": [
        "import matplotlib.pyplot\n",
        "matplotlib.pyplot.hist(n)"
      ],
      "metadata": {
        "colab": {
          "base_uri": "https://localhost:8080/",
          "height": 321
        },
        "id": "s9vA0AawGFvf",
        "outputId": "45a4932b-6aa6-496c-af4e-6f7d255daa3d"
      },
      "execution_count": 62,
      "outputs": [
        {
          "output_type": "execute_result",
          "data": {
            "text/plain": [
              "(array([1., 0., 0., 0., 0., 1., 0., 0., 0., 1.]),\n",
              " array([100., 120., 140., 160., 180., 200., 220., 240., 260., 280., 300.]),\n",
              " <a list of 10 Patch objects>)"
            ]
          },
          "metadata": {},
          "execution_count": 62
        },
        {
          "output_type": "display_data",
          "data": {
            "text/plain": [
              "<Figure size 432x288 with 1 Axes>"
            ],
            "image/png": "[encoded data removed]"
          },
          "metadata": {
            "needs_background": "light"
          }
        }
      ]
    },
    {
      "cell_type": "code",
      "source": [
        "import matplotlib.pyplot as plt\n",
        "plt.hist(n)"
      ],
      "metadata": {
        "colab": {
          "base_uri": "https://localhost:8080/",
          "height": 321
        },
        "id": "cfw1pB0fGPNs",
        "outputId": "904d03e1-849e-4e97-df7c-4b1479cc559c"
      },
      "execution_count": 63,
      "outputs": [
        {
          "output_type": "execute_result",
          "data": {
            "text/plain": [
              "(array([1., 0., 0., 0., 0., 1., 0., 0., 0., 1.]),\n",
              " array([100., 120., 140., 160., 180., 200., 220., 240., 260., 280., 300.]),\n",
              " <a list of 10 Patch objects>)"
            ]
          },
          "metadata": {},
          "execution_count": 63
        },
        {
          "output_type": "display_data",
          "data": {
            "text/plain": [
              "<Figure size 432x288 with 1 Axes>"
            ],
            "image/png": "[encoded data removed]"
          },
          "metadata": {
            "needs_background": "light"
          }
        }
      ]
    },
    {
      "cell_type": "code",
      "source": [
        "from matplotlib import pyplot\n",
        "pyplot.hist(n)"
      ],
      "metadata": {
        "colab": {
          "base_uri": "https://localhost:8080/",
          "height": 321
        },
        "id": "1nTVaHBgGYP1",
        "outputId": "2b38f157-17c9-495f-ecae-b49e84f78b0f"
      },
      "execution_count": 64,
      "outputs": [
        {
          "output_type": "execute_result",
          "data": {
            "text/plain": [
              "(array([1., 0., 0., 0., 0., 1., 0., 0., 0., 1.]),\n",
              " array([100., 120., 140., 160., 180., 200., 220., 240., 260., 280., 300.]),\n",
              " <a list of 10 Patch objects>)"
            ]
          },
          "metadata": {},
          "execution_count": 64
        },
        {
          "output_type": "display_data",
          "data": {
            "text/plain": [
              "<Figure size 432x288 with 1 Axes>"
            ],
            "image/png": "[encoded data removed]"
          },
          "metadata": {
            "needs_background": "light"
          }
        }
      ]
    },
    {
      "cell_type": "markdown",
      "source": [
        "Numpy\n",
        "\n",
        "matrix: 직사각형 숫자 배열 = n-dimension array = nd array"
      ],
      "metadata": {
        "id": "k8DN1csvGhuU"
      }
    },
    {
      "cell_type": "code",
      "source": [
        "import numpy as np\n",
        "x = np.array([1,2,3])\n",
        "print(x)\n",
        "print(type(x))\n",
        "print(x.shape)"
      ],
      "metadata": {
        "colab": {
          "base_uri": "https://localhost:8080/"
        },
        "id": "BW1BT7-WHnDW",
        "outputId": "7d009f9f-0f22-4a42-8926-7ba74dadf26b"
      },
      "execution_count": 76,
      "outputs": [
        {
          "output_type": "stream",
          "name": "stdout",
          "text": [
            "[1 2 3]\n",
            "<class 'numpy.ndarray'>\n",
            "(3,)\n"
          ]
        }
      ]
    },
    {
      "cell_type": "markdown",
      "source": [
        "(3,) → 1d"
      ],
      "metadata": {
        "id": "GCCondYHHqlH"
      }
    },
    {
      "cell_type": "code",
      "source": [
        "x = np.arange(0,10,2)\n",
        "print(x)\n",
        "print(type(x))\n",
        "print(x.shape)"
      ],
      "metadata": {
        "colab": {
          "base_uri": "https://localhost:8080/"
        },
        "id": "73wjQzIyHvbx",
        "outputId": "4aad4f41-f62b-4c91-9d51-012c8ece6204"
      },
      "execution_count": 77,
      "outputs": [
        {
          "output_type": "stream",
          "name": "stdout",
          "text": [
            "[0 2 4 6 8]\n",
            "<class 'numpy.ndarray'>\n",
            "(5,)\n"
          ]
        }
      ]
    },
    {
      "cell_type": "markdown",
      "source": [
        "(5,) → 1d"
      ],
      "metadata": {
        "id": "vem6ATdFH1A3"
      }
    },
    {
      "cell_type": "code",
      "source": [
        "x = np.linspace(0,10,6)\n",
        "print(x)\n",
        "print(type(x))\n",
        "print(x.shape)"
      ],
      "metadata": {
        "colab": {
          "base_uri": "https://localhost:8080/"
        },
        "id": "hNuakqDGH4qi",
        "outputId": "531907d9-e8ac-4b77-90f3-e084c48ad90f"
      },
      "execution_count": 78,
      "outputs": [
        {
          "output_type": "stream",
          "name": "stdout",
          "text": [
            "[ 0.  2.  4.  6.  8. 10.]\n",
            "<class 'numpy.ndarray'>\n",
            "(6,)\n"
          ]
        }
      ]
    },
    {
      "cell_type": "markdown",
      "source": [
        "linspace(0,10,6) = 0부터 10까지 6개로 나누어, linear\n",
        "\n",
        "(6,) → 1d"
      ],
      "metadata": {
        "id": "HCRrZUSQH_Gv"
      }
    },
    {
      "cell_type": "code",
      "source": [
        "x = np.array([[1,2,3], [4,5,6]])\n",
        "print(x)\n",
        "print(type(x))\n",
        "print(x.shape)"
      ],
      "metadata": {
        "colab": {
          "base_uri": "https://localhost:8080/"
        },
        "id": "JDTG52nYIQxc",
        "outputId": "31b3f292-6406-41c7-da04-aba34fa6b2da"
      },
      "execution_count": 79,
      "outputs": [
        {
          "output_type": "stream",
          "name": "stdout",
          "text": [
            "[[1 2 3]\n",
            " [4 5 6]]\n",
            "<class 'numpy.ndarray'>\n",
            "(2, 3)\n"
          ]
        }
      ]
    },
    {
      "cell_type": "markdown",
      "source": [
        "(2, 3)에서 2는 row, 3은 column"
      ],
      "metadata": {
        "id": "7i77GiroIW0O"
      }
    },
    {
      "cell_type": "code",
      "source": [
        "x = np.array([[[1,2,3], [4,5,6]], [[7,8,9], [10,11,12]]])\n",
        "print(x)\n",
        "print(type(x))\n",
        "print(x.shape)"
      ],
      "metadata": {
        "colab": {
          "base_uri": "https://localhost:8080/"
        },
        "id": "aj-v1xD5IWYe",
        "outputId": "b2f7f2cd-6f67-460a-f1ef-41b1210ca27a"
      },
      "execution_count": 80,
      "outputs": [
        {
          "output_type": "stream",
          "name": "stdout",
          "text": [
            "[[[ 1  2  3]\n",
            "  [ 4  5  6]]\n",
            "\n",
            " [[ 7  8  9]\n",
            "  [10 11 12]]]\n",
            "<class 'numpy.ndarray'>\n",
            "(2, 2, 3)\n"
          ]
        }
      ]
    },
    {
      "cell_type": "code",
      "source": [
        "x = np.ones([2, 2, 3])\n",
        "print(x)\n",
        "print(type(x))\n",
        "print(x.shape)"
      ],
      "metadata": {
        "colab": {
          "base_uri": "https://localhost:8080/"
        },
        "id": "SRMsoPeIIile",
        "outputId": "6e81a8cd-7225-4671-ed55-6a9b184b270b"
      },
      "execution_count": 81,
      "outputs": [
        {
          "output_type": "stream",
          "name": "stdout",
          "text": [
            "[[[1. 1. 1.]\n",
            "  [1. 1. 1.]]\n",
            "\n",
            " [[1. 1. 1.]\n",
            "  [1. 1. 1.]]]\n",
            "<class 'numpy.ndarray'>\n",
            "(2, 2, 3)\n"
          ]
        }
      ]
    },
    {
      "cell_type": "markdown",
      "source": [
        "Creating random numbers"
      ],
      "metadata": {
        "id": "0rZVYVEHIxQu"
      }
    },
    {
      "cell_type": "code",
      "source": [
        "np.random.normal(0, 1, [2,3,4])"
      ],
      "metadata": {
        "colab": {
          "base_uri": "https://localhost:8080/"
        },
        "id": "1hkDTj0RIt9Y",
        "outputId": "3db6c0a0-e133-4b27-d6fb-961aaea296d8"
      },
      "execution_count": 82,
      "outputs": [
        {
          "output_type": "execute_result",
          "data": {
            "text/plain": [
              "array([[[-1.86319582, -0.39737172, -0.24940876,  0.47899871],\n",
              "        [ 0.75760783, -0.39351499,  0.5432294 ,  1.71821227],\n",
              "        [-1.70296413,  0.4703199 , -1.28901352,  0.48526241]],\n",
              "\n",
              "       [[-0.43252474,  0.14147279, -0.09400668, -0.15330219],\n",
              "        [-0.66015664,  0.23266277,  2.10573769,  1.00142899],\n",
              "        [ 0.21847666, -1.25283994,  0.91358654,  0.0619796 ]]])"
            ]
          },
          "metadata": {},
          "execution_count": 82
        }
      ]
    },
    {
      "cell_type": "code",
      "source": [
        "import matplotlib.pyplot as plt\n",
        "x = np.random.normal(0, 1, 100)\n",
        "print(x)\n",
        "plt.hist(x, bins=10)"
      ],
      "metadata": {
        "colab": {
          "base_uri": "https://localhost:8080/",
          "height": 829
        },
        "id": "UlGP1KipI3PV",
        "outputId": "0d5bdf79-dda9-48a9-8b70-25f1f5526b31"
      },
      "execution_count": 83,
      "outputs": [
        {
          "output_type": "stream",
          "name": "stdout",
          "text": [
            "[-3.85261502e-01  4.89678658e-01 -9.13567619e-01  7.26040445e-01\n",
            " -3.53998971e-01 -2.81665012e-01 -1.70342300e-01  4.39446589e-01\n",
            "  1.55428980e+00  4.37823912e-01  7.55429178e-01  2.67256060e-01\n",
            " -1.08158781e+00  3.74806179e-01  2.38982825e-01  1.09329792e+00\n",
            " -8.23159864e-01 -2.45828150e-01 -1.40478283e+00 -5.25629440e-02\n",
            "  1.03607491e+00  6.65146299e-02  4.61176298e-01 -1.07234719e+00\n",
            "  2.52954207e-01 -3.77058829e-01  1.26238721e-01 -1.06635770e-01\n",
            "  1.59883874e+00 -1.13828635e+00  1.02648500e+00  8.32803332e-01\n",
            " -2.49073402e+00 -3.10413887e-01  7.87059765e-01 -4.72132795e-01\n",
            "  3.89270100e-01  1.77342709e+00  5.99553947e-01  6.59907208e-01\n",
            "  8.18632769e-01  1.28993520e-01  2.19078291e-01 -1.67173506e+00\n",
            " -1.06836321e+00 -5.04818422e-02 -1.75611745e+00 -8.96208225e-01\n",
            " -2.04785901e+00 -1.09308787e-01 -1.63252563e+00  6.82951717e-02\n",
            "  1.55707595e+00 -1.36992702e+00  2.84030122e-01  4.19796607e-03\n",
            "  4.87668575e-01  7.57916693e-01  4.23226511e-01  1.14762313e+00\n",
            " -7.17468226e-01 -1.11940566e+00 -9.33153293e-01  8.59078183e-01\n",
            "  4.43893842e-01 -1.62043707e+00  1.93539694e+00  8.14898398e-01\n",
            " -3.99825461e-01  1.27371312e+00  1.33254791e+00 -2.87682743e-01\n",
            "  9.85486043e-01 -5.89078234e-01  8.23574606e-01 -2.39431498e-01\n",
            "  8.21829553e-01 -4.15669672e-02  1.71006748e-03 -1.21244541e+00\n",
            "  3.11238202e-01  2.14145693e+00 -1.47872469e+00  1.22628785e+00\n",
            " -1.25333141e+00 -2.46263737e-01  3.26665109e-02 -1.13275213e+00\n",
            "  6.69862229e-02  9.31267223e-01 -5.29978400e-01  3.56534296e-01\n",
            "  1.18761899e+00 -1.91617148e-01 -3.26298962e+00  1.42935245e+00\n",
            " -3.20551113e-01 -1.42593381e+00 -8.30465925e-01 -8.21909641e-01]\n"
          ]
        },
        {
          "output_type": "execute_result",
          "data": {
            "text/plain": [
              "(array([ 1.,  1.,  3., 11., 11., 20., 24., 16., 10.,  3.]),\n",
              " array([-3.26298962, -2.72254497, -2.18210031, -1.64165566, -1.101211  ,\n",
              "        -0.56076635, -0.02032169,  0.52012296,  1.06056762,  1.60101227,\n",
              "         2.14145693]),\n",
              " <a list of 10 Patch objects>)"
            ]
          },
          "metadata": {},
          "execution_count": 83
        },
        {
          "output_type": "display_data",
          "data": {
            "text/plain": [
              "<Figure size 432x288 with 1 Axes>"
            ],
            "image/png": "[encoded data removed]"
          },
          "metadata": {
            "needs_background": "light"
          }
        }
      ]
    },
    {
      "cell_type": "markdown",
      "source": [
        "sine curve 만들기"
      ],
      "metadata": {
        "id": "0vE6VoyvI_v1"
      }
    },
    {
      "cell_type": "markdown",
      "source": [
        "linspace(0, 2*np.pi, 100) = 0부터 2파이까지 100개의 숫자\n",
        "\n",
        "theta1 = 0~2파이\n",
        "\n",
        "theta2 = 90도~450도"
      ],
      "metadata": {
        "id": "yds6iWjiJOaH"
      }
    },
    {
      "cell_type": "code",
      "source": [
        "plt.figure()\n",
        "\n",
        "theta1 = np.linspace(0, 2*np.pi, 100)\n",
        "s1 = np.sin(theta1)\n",
        "theta2 = np.linspace(0, 2*np.pi, 100) + np.pi/2\n",
        "s2 = np.sin(theta2)\n",
        "\n",
        "plt.subplot(2, 1, 1) # (rows, columns, panel number)\n",
        "plt.plot(theta1, s1, '.')\n",
        "plt.subplot(2, 1, 2) # (rows, columns, panel number)\n",
        "plt.plot(theta2, s2, '.')"
      ],
      "metadata": {
        "colab": {
          "base_uri": "https://localhost:8080/",
          "height": 284
        },
        "id": "aKTzRFY5JCkE",
        "outputId": "477310bc-b682-4652-ed87-973fed4de9ad"
      },
      "execution_count": 84,
      "outputs": [
        {
          "output_type": "execute_result",
          "data": {
            "text/plain": [
              "[<matplotlib.lines.Line2D at 0x7f55cd335e50>]"
            ]
          },
          "metadata": {},
          "execution_count": 84
        },
        {
          "output_type": "display_data",
          "data": {
            "text/plain": [
              "<Figure size 432x288 with 2 Axes>"
            ],
            "image/png": "[encoded data removed]"
          },
          "metadata": {
            "needs_background": "light"
          }
        }
      ]
    },
    {
      "cell_type": "markdown",
      "source": [
        "x값: theta1, y값: s1\n",
        "x값: theta2, y값: s2"
      ],
      "metadata": {
        "id": "z4uIn8NWKKi4"
      }
    },
    {
      "cell_type": "markdown",
      "source": [
        "※ correlation, coeffecient=비례\n",
        "\n",
        "-1 =< r =< 1, r값이 +면 정비례, r값이 -면 반비례\n",
        "\n",
        "서로 상관관계가 높을 수록 r의 절대값이 1에 가까워짐\n",
        "\n",
        "서로 상관관계가 낮을 수록 r의 절대값이 0에 가까워짐"
      ],
      "metadata": {
        "id": "avfI1xZGKWvi"
      }
    },
    {
      "cell_type": "code",
      "source": [
        "np.corrcoef(s1,s2)"
      ],
      "metadata": {
        "colab": {
          "base_uri": "https://localhost:8080/"
        },
        "id": "NJnZ_MlPK3Wy",
        "outputId": "1aa2d2ca-8896-482a-ac2c-84bd183f7d16"
      },
      "execution_count": 85,
      "outputs": [
        {
          "output_type": "execute_result",
          "data": {
            "text/plain": [
              "array([[1.00000000e+00, 2.41915449e-17],\n",
              "       [2.41915449e-17, 1.00000000e+00]])"
            ]
          },
          "metadata": {},
          "execution_count": 85
        }
      ]
    },
    {
      "cell_type": "markdown",
      "source": [
        "2.41915449 * e-17 = 2.41915449 * 10의 -17제곱 = 0\n",
        "\n",
        "그러므로 s1, s2의 상관관계는 0"
      ],
      "metadata": {
        "id": "ljTDJWtULAVf"
      }
    }
  ]
}